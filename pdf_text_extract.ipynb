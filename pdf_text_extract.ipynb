{
 "cells": [
  {
   "cell_type": "markdown",
   "metadata": {},
   "source": [
    "Import the File"
   ]
  },
  {
   "cell_type": "code",
   "execution_count": 63,
   "metadata": {},
   "outputs": [],
   "source": [
    "import Preprocessor\n",
    "import Skill_preprocessor\n",
    "import Scoring"
   ]
  },
  {
   "cell_type": "markdown",
   "metadata": {},
   "source": [
    "Extract the file Data as text"
   ]
  },
  {
   "cell_type": "code",
   "execution_count": 69,
   "metadata": {},
   "outputs": [],
   "source": [
    "jd = \"At [Company X], we rely on insightful data to power our systems and solutions. We’re seeking an experienced data scientist to deliver insights on a daily basis. The ideal candidate will have mathematical and statistical expertise, along with natural curiosity and a creative mind. While mining, interpreting, and cleaning our data, this person will be relied on to ask questions, connect the dots, and uncover hidden opportunities for realizing the data’s full potential. As part of a team of specialists, the data scientist will “slice and dice” data using various methods and create new visions for the future\"\n",
    "technologies = [\"python\", \"scikit learn\", \"pandas\", \"excel\", \"aws\", \"mysql/mongodb/sqlite/sql\", \"apache spark\"]\n",
    "skills = [\"data analysis/data science\", \"computer vision\", \"data visualisation\", \"machine learning/deep learning\"]\n",
    "CGPA_Req = 8.0\n",
    "Working_exp = 0\n",
    "Branch_req = \"Computer Science and Engineering\"\n",
    "education_req = \"B.Tech\""
   ]
  },
  {
   "cell_type": "markdown",
   "metadata": {},
   "source": [
    "Fresh Data Science Resume"
   ]
  },
  {
   "cell_type": "code",
   "execution_count": 70,
   "metadata": {},
   "outputs": [],
   "source": [
    "Candidate_resume_path = \"C:\\\\Users\\\\jaide\\\\Downloads\\\\data-science-student-resume-example.pdf\"\n",
    "candidate_CGPA = 8.5\n",
    "candidate_Working_exp = 0\n",
    "candidate_Branch = \"Computer Science and Engineering\"\n",
    "candidate_education = \"B.Tech\"\n"
   ]
  },
  {
   "cell_type": "code",
   "execution_count": 71,
   "metadata": {},
   "outputs": [
    {
     "data": {
      "text/plain": [
       "False"
      ]
     },
     "execution_count": 71,
     "metadata": {},
     "output_type": "execute_result"
    }
   ],
   "source": [
    "candidate_resume = Preprocessor.extract_text(Candidate_resume_path, \"pdf\")\n",
    "\n",
    "\"aws\" in candidate_resume.lower()\n",
    "\n",
    "candidate_resume_processed_l = Preprocessor.preprocess_text_lemma(candidate_resume)\n",
    "\n",
    "\"aws\" in candidate_resume_processed_l\n",
    "\n",
    "candidate_resume_processed_ls = Preprocessor.preprocess_text_lemma_stem(candidate_resume)\n",
    "\n",
    "\"aws\" in candidate_resume_processed_ls"
   ]
  },
  {
   "cell_type": "markdown",
   "metadata": {},
   "source": [
    "Scoring"
   ]
  },
  {
   "cell_type": "code",
   "execution_count": 72,
   "metadata": {},
   "outputs": [],
   "source": [
    "final_score, absent_skills, absent_tech, skillscore, techscore, sim_score = Scoring.score(Candidate_resume_path, candidate_CGPA, candidate_Working_exp, candidate_Branch, candidate_education, jd, skills, technologies, CGPA_Req, Working_exp, Branch_req, education_req)"
   ]
  },
  {
   "cell_type": "code",
   "execution_count": 73,
   "metadata": {},
   "outputs": [
    {
     "name": "stdout",
     "output_type": "stream",
     "text": [
      "Final Score:  0.12701869424391582\n",
      "Absent Skills:  [['data analysis', 'data science'], ['computer vision'], ['data visualisation'], ['machine learning', 'deep learning']]\n",
      "Absent Technologies:  [['pandas'], ['aws'], ['apache spark']]\n",
      "Skill Score:  -12\n",
      "Tech Score:  28\n",
      "Similarity Score:  0.43509347121957914\n"
     ]
    }
   ],
   "source": [
    "print(\"Final Score: \", final_score)\n",
    "print(\"Absent Skills: \", absent_skills)\n",
    "print(\"Absent Technologies: \", absent_tech)\n",
    "print(\"Skill Score: \", skillscore)\n",
    "print(\"Tech Score: \", techscore)\n",
    "print(\"Similarity Score: \", sim_score)\n",
    "\n"
   ]
  },
  {
   "cell_type": "code",
   "execution_count": null,
   "metadata": {},
   "outputs": [],
   "source": []
  },
  {
   "cell_type": "code",
   "execution_count": null,
   "metadata": {},
   "outputs": [],
   "source": []
  }
 ],
 "metadata": {
  "kernelspec": {
   "display_name": "base",
   "language": "python",
   "name": "python3"
  },
  "language_info": {
   "codemirror_mode": {
    "name": "ipython",
    "version": 3
   },
   "file_extension": ".py",
   "mimetype": "text/x-python",
   "name": "python",
   "nbconvert_exporter": "python",
   "pygments_lexer": "ipython3",
   "version": "3.11.3"
  }
 },
 "nbformat": 4,
 "nbformat_minor": 2
}
